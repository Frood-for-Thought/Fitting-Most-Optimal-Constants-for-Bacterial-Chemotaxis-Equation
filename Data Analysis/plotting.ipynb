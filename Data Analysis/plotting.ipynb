{
 "cells": [
  {
   "cell_type": "code",
   "execution_count": 1,
   "metadata": {},
   "outputs": [],
   "source": [
    "import numpy as np\n",
    "import pandas as pd\n",
    "import matplotlib.pyplot as plt\n",
    "import plotly.graph_objs as go\n",
    "import seaborn as sns"
   ]
  },
  {
   "cell_type": "code",
   "execution_count": 2,
   "metadata": {},
   "outputs": [
    {
     "data": {
      "text/html": [
       "<div>\n",
       "<style scoped>\n",
       "    .dataframe tbody tr th:only-of-type {\n",
       "        vertical-align: middle;\n",
       "    }\n",
       "\n",
       "    .dataframe tbody tr th {\n",
       "        vertical-align: top;\n",
       "    }\n",
       "\n",
       "    .dataframe thead th {\n",
       "        text-align: right;\n",
       "    }\n",
       "</style>\n",
       "<table border=\"1\" class=\"dataframe\">\n",
       "  <thead>\n",
       "    <tr style=\"text-align: right;\">\n",
       "      <th></th>\n",
       "      <th>deme</th>\n",
       "      <th>alpha_outliers</th>\n",
       "      <th>alpha</th>\n",
       "      <th>Curve_Fit</th>\n",
       "    </tr>\n",
       "  </thead>\n",
       "  <tbody>\n",
       "    <tr>\n",
       "      <th>0</th>\n",
       "      <td>1.0</td>\n",
       "      <td>5390.0</td>\n",
       "      <td>NaN</td>\n",
       "      <td>15491.724340</td>\n",
       "    </tr>\n",
       "    <tr>\n",
       "      <th>1</th>\n",
       "      <td>2.0</td>\n",
       "      <td>3120.0</td>\n",
       "      <td>NaN</td>\n",
       "      <td>13211.283310</td>\n",
       "    </tr>\n",
       "    <tr>\n",
       "      <th>2</th>\n",
       "      <td>3.0</td>\n",
       "      <td>6270.0</td>\n",
       "      <td>NaN</td>\n",
       "      <td>11283.390810</td>\n",
       "    </tr>\n",
       "    <tr>\n",
       "      <th>3</th>\n",
       "      <td>4.0</td>\n",
       "      <td>7150.0</td>\n",
       "      <td>NaN</td>\n",
       "      <td>9655.528751</td>\n",
       "    </tr>\n",
       "    <tr>\n",
       "      <th>4</th>\n",
       "      <td>5.0</td>\n",
       "      <td>5440.0</td>\n",
       "      <td>NaN</td>\n",
       "      <td>8282.154201</td>\n",
       "    </tr>\n",
       "    <tr>\n",
       "      <th>5</th>\n",
       "      <td>6.0</td>\n",
       "      <td>7010.0</td>\n",
       "      <td>7010.0</td>\n",
       "      <td>7123.926796</td>\n",
       "    </tr>\n",
       "    <tr>\n",
       "      <th>6</th>\n",
       "      <td>7.0</td>\n",
       "      <td>6210.0</td>\n",
       "      <td>6210.0</td>\n",
       "      <td>6147.003270</td>\n",
       "    </tr>\n",
       "    <tr>\n",
       "      <th>7</th>\n",
       "      <td>8.0</td>\n",
       "      <td>5430.0</td>\n",
       "      <td>5430.0</td>\n",
       "      <td>5322.394775</td>\n",
       "    </tr>\n",
       "    <tr>\n",
       "      <th>8</th>\n",
       "      <td>9.0</td>\n",
       "      <td>4660.0</td>\n",
       "      <td>4660.0</td>\n",
       "      <td>4625.382982</td>\n",
       "    </tr>\n",
       "    <tr>\n",
       "      <th>9</th>\n",
       "      <td>10.0</td>\n",
       "      <td>4120.0</td>\n",
       "      <td>4120.0</td>\n",
       "      <td>4034.991049</td>\n",
       "    </tr>\n",
       "  </tbody>\n",
       "</table>\n",
       "</div>"
      ],
      "text/plain": [
       "   deme  alpha_outliers   alpha     Curve_Fit\n",
       "0   1.0          5390.0     NaN  15491.724340\n",
       "1   2.0          3120.0     NaN  13211.283310\n",
       "2   3.0          6270.0     NaN  11283.390810\n",
       "3   4.0          7150.0     NaN   9655.528751\n",
       "4   5.0          5440.0     NaN   8282.154201\n",
       "5   6.0          7010.0  7010.0   7123.926796\n",
       "6   7.0          6210.0  6210.0   6147.003270\n",
       "7   8.0          5430.0  5430.0   5322.394775\n",
       "8   9.0          4660.0  4660.0   4625.382982\n",
       "9  10.0          4120.0  4120.0   4034.991049"
      ]
     },
     "execution_count": 2,
     "metadata": {},
     "output_type": "execute_result"
    }
   ],
   "source": [
    "curve_fit_df = pd.read_csv('alpha_values_MaxC_60000_Grad_0.000405_curve_fit.csv')\n",
    "curve_fit_df.head(10)"
   ]
  },
  {
   "cell_type": "code",
   "execution_count": 3,
   "metadata": {},
   "outputs": [
    {
     "data": {
      "text/html": [
       "<div>\n",
       "<style scoped>\n",
       "    .dataframe tbody tr th:only-of-type {\n",
       "        vertical-align: middle;\n",
       "    }\n",
       "\n",
       "    .dataframe tbody tr th {\n",
       "        vertical-align: top;\n",
       "    }\n",
       "\n",
       "    .dataframe thead th {\n",
       "        text-align: right;\n",
       "    }\n",
       "</style>\n",
       "<table border=\"1\" class=\"dataframe\">\n",
       "  <thead>\n",
       "    <tr style=\"text-align: right;\">\n",
       "      <th></th>\n",
       "      <th>food_conc</th>\n",
       "      <th>drift_velocity</th>\n",
       "      <th>c_x_df_l_dc</th>\n",
       "      <th>attr_time_roc</th>\n",
       "      <th>Vo_max</th>\n",
       "    </tr>\n",
       "  </thead>\n",
       "  <tbody>\n",
       "    <tr>\n",
       "      <th>0</th>\n",
       "      <td>0.211633</td>\n",
       "      <td>0.068255</td>\n",
       "      <td>0.022403</td>\n",
       "      <td>6.192934e-07</td>\n",
       "      <td>12.521185</td>\n",
       "    </tr>\n",
       "    <tr>\n",
       "      <th>1</th>\n",
       "      <td>0.239944</td>\n",
       "      <td>0.077261</td>\n",
       "      <td>0.025359</td>\n",
       "      <td>7.935055e-07</td>\n",
       "      <td>12.521185</td>\n",
       "    </tr>\n",
       "    <tr>\n",
       "      <th>2</th>\n",
       "      <td>0.272042</td>\n",
       "      <td>0.087437</td>\n",
       "      <td>0.028699</td>\n",
       "      <td>1.016293e-06</td>\n",
       "      <td>12.521185</td>\n",
       "    </tr>\n",
       "    <tr>\n",
       "      <th>3</th>\n",
       "      <td>0.308433</td>\n",
       "      <td>0.098930</td>\n",
       "      <td>0.032471</td>\n",
       "      <td>1.301007e-06</td>\n",
       "      <td>12.521185</td>\n",
       "    </tr>\n",
       "    <tr>\n",
       "      <th>4</th>\n",
       "      <td>0.349693</td>\n",
       "      <td>0.111902</td>\n",
       "      <td>0.036729</td>\n",
       "      <td>1.664580e-06</td>\n",
       "      <td>12.521185</td>\n",
       "    </tr>\n",
       "  </tbody>\n",
       "</table>\n",
       "</div>"
      ],
      "text/plain": [
       "   food_conc  drift_velocity  c_x_df_l_dc  attr_time_roc     Vo_max\n",
       "0   0.211633        0.068255     0.022403   6.192934e-07  12.521185\n",
       "1   0.239944        0.077261     0.025359   7.935055e-07  12.521185\n",
       "2   0.272042        0.087437     0.028699   1.016293e-06  12.521185\n",
       "3   0.308433        0.098930     0.032471   1.301007e-06  12.521185\n",
       "4   0.349693        0.111902     0.036729   1.664580e-06  12.521185"
      ]
     },
     "execution_count": 3,
     "metadata": {},
     "output_type": "execute_result"
    }
   ],
   "source": [
    "input_param_df = pd.read_excel('input_parameters.xlsx')\n",
    "input_param_df.head()"
   ]
  },
  {
   "cell_type": "code",
   "execution_count": 4,
   "metadata": {},
   "outputs": [
    {
     "data": {
      "text/html": [
       "<div>\n",
       "<style scoped>\n",
       "    .dataframe tbody tr th:only-of-type {\n",
       "        vertical-align: middle;\n",
       "    }\n",
       "\n",
       "    .dataframe tbody tr th {\n",
       "        vertical-align: top;\n",
       "    }\n",
       "\n",
       "    .dataframe thead th {\n",
       "        text-align: right;\n",
       "    }\n",
       "</style>\n",
       "<table border=\"1\" class=\"dataframe\">\n",
       "  <thead>\n",
       "    <tr style=\"text-align: right;\">\n",
       "      <th></th>\n",
       "      <th>food_conc</th>\n",
       "      <th>drift_velocity</th>\n",
       "      <th>c_x_df_l_dc</th>\n",
       "      <th>attr_time_roc</th>\n",
       "      <th>Vo_max</th>\n",
       "      <th>prob_tum_up</th>\n",
       "      <th>prob_tum_down</th>\n",
       "    </tr>\n",
       "  </thead>\n",
       "  <tbody>\n",
       "    <tr>\n",
       "      <th>0</th>\n",
       "      <td>0.211633</td>\n",
       "      <td>0.068255</td>\n",
       "      <td>0.022403</td>\n",
       "      <td>6.192934e-07</td>\n",
       "      <td>12.521185</td>\n",
       "      <td>0.310493</td>\n",
       "      <td>0.316508</td>\n",
       "    </tr>\n",
       "    <tr>\n",
       "      <th>1</th>\n",
       "      <td>0.239944</td>\n",
       "      <td>0.077261</td>\n",
       "      <td>0.025359</td>\n",
       "      <td>7.935055e-07</td>\n",
       "      <td>12.521185</td>\n",
       "      <td>0.310217</td>\n",
       "      <td>0.316790</td>\n",
       "    </tr>\n",
       "    <tr>\n",
       "      <th>2</th>\n",
       "      <td>0.272042</td>\n",
       "      <td>0.087437</td>\n",
       "      <td>0.028699</td>\n",
       "      <td>1.016293e-06</td>\n",
       "      <td>12.521185</td>\n",
       "      <td>0.309912</td>\n",
       "      <td>0.317102</td>\n",
       "    </tr>\n",
       "    <tr>\n",
       "      <th>3</th>\n",
       "      <td>0.308433</td>\n",
       "      <td>0.098930</td>\n",
       "      <td>0.032471</td>\n",
       "      <td>1.301007e-06</td>\n",
       "      <td>12.521185</td>\n",
       "      <td>0.309573</td>\n",
       "      <td>0.317449</td>\n",
       "    </tr>\n",
       "    <tr>\n",
       "      <th>4</th>\n",
       "      <td>0.349693</td>\n",
       "      <td>0.111902</td>\n",
       "      <td>0.036729</td>\n",
       "      <td>1.664580e-06</td>\n",
       "      <td>12.521185</td>\n",
       "      <td>0.309194</td>\n",
       "      <td>0.317838</td>\n",
       "    </tr>\n",
       "  </tbody>\n",
       "</table>\n",
       "</div>"
      ],
      "text/plain": [
       "   food_conc  drift_velocity  c_x_df_l_dc  attr_time_roc     Vo_max  \\\n",
       "0   0.211633        0.068255     0.022403   6.192934e-07  12.521185   \n",
       "1   0.239944        0.077261     0.025359   7.935055e-07  12.521185   \n",
       "2   0.272042        0.087437     0.028699   1.016293e-06  12.521185   \n",
       "3   0.308433        0.098930     0.032471   1.301007e-06  12.521185   \n",
       "4   0.349693        0.111902     0.036729   1.664580e-06  12.521185   \n",
       "\n",
       "   prob_tum_up  prob_tum_down  \n",
       "0     0.310493       0.316508  \n",
       "1     0.310217       0.316790  \n",
       "2     0.309912       0.317102  \n",
       "3     0.309573       0.317449  \n",
       "4     0.309194       0.317838  "
      ]
     },
     "execution_count": 4,
     "metadata": {},
     "output_type": "execute_result"
    }
   ],
   "source": [
    "Grad = 0.000405 # µm^-1\n",
    "# Receptor Probability is the component in the exponential function that's a byproduct of the alpha value and the receptor sensitivity.\n",
    "# \"attr_time_roc\" is the time rate of change of receptor (attractant from food) protein bound, = input_param_df['drift_velocity'] * Grad * input_param_df['c_x_df_l_dc']\n",
    "input_param_df['prob_tum_up'] = np.exp(-1.16 - curve_fit_df['Curve_Fit']*input_param_df['attr_time_roc'])\n",
    "input_param_df['prob_tum_down'] = np.exp(-1.16 + curve_fit_df['Curve_Fit']*input_param_df['attr_time_roc'])\n",
    "input_param_df.head()"
   ]
  },
  {
   "cell_type": "code",
   "execution_count": 5,
   "metadata": {},
   "outputs": [
    {
     "data": {
      "application/vnd.plotly.v1+json": {
       "config": {
        "plotlyServerURL": "https://plot.ly"
       },
       "data": [
        {
         "mode": "markers",
         "name": "alpha value points",
         "type": "scatter",
         "x": [
          1,
          2,
          3,
          4,
          5,
          6,
          7,
          8,
          9,
          10,
          11,
          12,
          13,
          14,
          15,
          16,
          17,
          18,
          19,
          20,
          21,
          22,
          23,
          24,
          25,
          26,
          27,
          28,
          29,
          30,
          31,
          32,
          33,
          34,
          35,
          36,
          37,
          38,
          39,
          40,
          41,
          42,
          43,
          44,
          45,
          46,
          47,
          48,
          49,
          50,
          51,
          52,
          53,
          54,
          55,
          56,
          57,
          58,
          59,
          60,
          61,
          62,
          63,
          64,
          65,
          66,
          67,
          68,
          69,
          70,
          71,
          72,
          73,
          74,
          75,
          76,
          77,
          78,
          79,
          80,
          81,
          82,
          83,
          84,
          85,
          86,
          87,
          88,
          89,
          90,
          91,
          92,
          93,
          94,
          95,
          96,
          97,
          98,
          99,
          100,
          null
         ],
         "y": [
          null,
          null,
          null,
          null,
          null,
          7010,
          6210,
          5430,
          4660,
          4120,
          3490,
          2980,
          2640,
          2340,
          2300,
          1910,
          1750,
          1520,
          1340,
          1280,
          1110,
          980,
          890,
          805,
          735,
          675,
          610,
          555,
          510,
          470,
          445,
          420,
          385,
          365,
          345,
          330,
          310,
          300,
          290,
          280,
          270,
          265,
          260,
          260,
          255,
          255,
          250,
          250,
          250,
          255,
          255,
          255,
          260,
          265,
          275,
          280,
          290,
          300,
          310,
          320,
          340,
          355,
          375,
          400,
          425,
          450,
          480,
          515,
          555,
          595,
          630,
          680,
          725,
          765,
          805,
          845,
          880,
          895,
          920,
          925,
          905,
          865,
          850,
          825,
          770,
          730,
          675,
          620,
          580,
          540,
          485,
          450,
          410,
          370,
          330,
          305,
          280,
          260,
          230,
          200,
          190
         ]
        },
        {
         "mode": "markers",
         "name": "alpha value outliers",
         "type": "scatter",
         "x": [
          1,
          2,
          3,
          4,
          5,
          6,
          7,
          8,
          9,
          10,
          11,
          12,
          13,
          14,
          15,
          16,
          17,
          18,
          19,
          20,
          21,
          22,
          23,
          24,
          25,
          26,
          27,
          28,
          29,
          30,
          31,
          32,
          33,
          34,
          35,
          36,
          37,
          38,
          39,
          40,
          41,
          42,
          43,
          44,
          45,
          46,
          47,
          48,
          49,
          50,
          51,
          52,
          53,
          54,
          55,
          56,
          57,
          58,
          59,
          60,
          61,
          62,
          63,
          64,
          65,
          66,
          67,
          68,
          69,
          70,
          71,
          72,
          73,
          74,
          75,
          76,
          77,
          78,
          79,
          80,
          81,
          82,
          83,
          84,
          85,
          86,
          87,
          88,
          89,
          90,
          91,
          92,
          93,
          94,
          95,
          96,
          97,
          98,
          99,
          100,
          null
         ],
         "y": [
          5390,
          3120,
          6270,
          7150,
          5440
         ]
        },
        {
         "mode": "lines",
         "name": "polynomial fit",
         "type": "scatter",
         "x": [
          1,
          2,
          3,
          4,
          5,
          6,
          7,
          8,
          9,
          10,
          11,
          12,
          13,
          14,
          15,
          16,
          17,
          18,
          19,
          20,
          21,
          22,
          23,
          24,
          25,
          26,
          27,
          28,
          29,
          30,
          31,
          32,
          33,
          34,
          35,
          36,
          37,
          38,
          39,
          40,
          41,
          42,
          43,
          44,
          45,
          46,
          47,
          48,
          49,
          50,
          51,
          52,
          53,
          54,
          55,
          56,
          57,
          58,
          59,
          60,
          61,
          62,
          63,
          64,
          65,
          66,
          67,
          68,
          69,
          70,
          71,
          72,
          73,
          74,
          75,
          76,
          77,
          78,
          79,
          80,
          81,
          82,
          83,
          84,
          85,
          86,
          87,
          88,
          89,
          90,
          91,
          92,
          93,
          94,
          95,
          96,
          97,
          98,
          99,
          100,
          null
         ],
         "y": [
          15491.72434,
          13211.28331,
          11283.39081,
          9655.528751,
          8282.154201,
          7123.926796,
          6147.00327,
          5322.394775,
          4625.382982,
          4034.991049,
          3533.505737,
          3106.047109,
          2740.182402,
          2425.580831,
          2153.706205,
          1917.544428,
          1711.363071,
          1530.500337,
          1371.180913,
          1230.356315,
          1105.567449,
          994.8272813,
          896.5215948,
          809.3259515,
          732.1370961,
          664.0171451,
          604.1490224,
          551.8017059,
          506.3039583,
          467.025313,
          433.363185,
          404.7350717,
          380.5748977,
          360.3326472,
          343.4765099,
          329.4968488,
          317.9113739,
          308.270982,
          300.1657912,
          293.2309671,
          287.1520019,
          281.6691674,
          276.5809199,
          271.7460888,
          267.084733,
          262.5775914,
          258.264103,
          254.2390085,
          250.6475833,
          247.679585,
          245.5620292,
          244.5509333,
          244.9221914,
          246.9617631,
          250.9553767,
          257.1779584,
          265.8830113,
          277.2921713,
          291.5851729,
          308.8904564,
          329.2766427,
          352.745098,
          379.2237961,
          408.5626759,
          440.5306722,
          474.8145768,
          511.0198648,
          548.6735914,
          587.2294354,
          626.0749304,
          664.5408861,
          701.9129642,
          737.4453254,
          770.3762187,
          799.9453319,
          825.4126677,
          846.0786529,
          861.3051257,
          870.5367809,
          873.3225881,
          869.3366211,
          858.3976673,
          840.4869037,
          815.7628475,
          784.5727006,
          747.4591242,
          705.1613821,
          658.6097005,
          608.9115925,
          557.3287914,
          505.2433349,
          454.111232,
          405.4020318,
          360.5224985,
          320.7224799,
          286.9809301,
          259.869927,
          239.3943915,
          224.8050855,
          214.3823301,
          205.1877448
         ]
        }
       ],
       "layout": {
        "template": {
         "data": {
          "bar": [
           {
            "error_x": {
             "color": "#2a3f5f"
            },
            "error_y": {
             "color": "#2a3f5f"
            },
            "marker": {
             "line": {
              "color": "#E5ECF6",
              "width": 0.5
             },
             "pattern": {
              "fillmode": "overlay",
              "size": 10,
              "solidity": 0.2
             }
            },
            "type": "bar"
           }
          ],
          "barpolar": [
           {
            "marker": {
             "line": {
              "color": "#E5ECF6",
              "width": 0.5
             },
             "pattern": {
              "fillmode": "overlay",
              "size": 10,
              "solidity": 0.2
             }
            },
            "type": "barpolar"
           }
          ],
          "carpet": [
           {
            "aaxis": {
             "endlinecolor": "#2a3f5f",
             "gridcolor": "white",
             "linecolor": "white",
             "minorgridcolor": "white",
             "startlinecolor": "#2a3f5f"
            },
            "baxis": {
             "endlinecolor": "#2a3f5f",
             "gridcolor": "white",
             "linecolor": "white",
             "minorgridcolor": "white",
             "startlinecolor": "#2a3f5f"
            },
            "type": "carpet"
           }
          ],
          "choropleth": [
           {
            "colorbar": {
             "outlinewidth": 0,
             "ticks": ""
            },
            "type": "choropleth"
           }
          ],
          "contour": [
           {
            "colorbar": {
             "outlinewidth": 0,
             "ticks": ""
            },
            "colorscale": [
             [
              0,
              "#0d0887"
             ],
             [
              0.1111111111111111,
              "#46039f"
             ],
             [
              0.2222222222222222,
              "#7201a8"
             ],
             [
              0.3333333333333333,
              "#9c179e"
             ],
             [
              0.4444444444444444,
              "#bd3786"
             ],
             [
              0.5555555555555556,
              "#d8576b"
             ],
             [
              0.6666666666666666,
              "#ed7953"
             ],
             [
              0.7777777777777778,
              "#fb9f3a"
             ],
             [
              0.8888888888888888,
              "#fdca26"
             ],
             [
              1,
              "#f0f921"
             ]
            ],
            "type": "contour"
           }
          ],
          "contourcarpet": [
           {
            "colorbar": {
             "outlinewidth": 0,
             "ticks": ""
            },
            "type": "contourcarpet"
           }
          ],
          "heatmap": [
           {
            "colorbar": {
             "outlinewidth": 0,
             "ticks": ""
            },
            "colorscale": [
             [
              0,
              "#0d0887"
             ],
             [
              0.1111111111111111,
              "#46039f"
             ],
             [
              0.2222222222222222,
              "#7201a8"
             ],
             [
              0.3333333333333333,
              "#9c179e"
             ],
             [
              0.4444444444444444,
              "#bd3786"
             ],
             [
              0.5555555555555556,
              "#d8576b"
             ],
             [
              0.6666666666666666,
              "#ed7953"
             ],
             [
              0.7777777777777778,
              "#fb9f3a"
             ],
             [
              0.8888888888888888,
              "#fdca26"
             ],
             [
              1,
              "#f0f921"
             ]
            ],
            "type": "heatmap"
           }
          ],
          "heatmapgl": [
           {
            "colorbar": {
             "outlinewidth": 0,
             "ticks": ""
            },
            "colorscale": [
             [
              0,
              "#0d0887"
             ],
             [
              0.1111111111111111,
              "#46039f"
             ],
             [
              0.2222222222222222,
              "#7201a8"
             ],
             [
              0.3333333333333333,
              "#9c179e"
             ],
             [
              0.4444444444444444,
              "#bd3786"
             ],
             [
              0.5555555555555556,
              "#d8576b"
             ],
             [
              0.6666666666666666,
              "#ed7953"
             ],
             [
              0.7777777777777778,
              "#fb9f3a"
             ],
             [
              0.8888888888888888,
              "#fdca26"
             ],
             [
              1,
              "#f0f921"
             ]
            ],
            "type": "heatmapgl"
           }
          ],
          "histogram": [
           {
            "marker": {
             "pattern": {
              "fillmode": "overlay",
              "size": 10,
              "solidity": 0.2
             }
            },
            "type": "histogram"
           }
          ],
          "histogram2d": [
           {
            "colorbar": {
             "outlinewidth": 0,
             "ticks": ""
            },
            "colorscale": [
             [
              0,
              "#0d0887"
             ],
             [
              0.1111111111111111,
              "#46039f"
             ],
             [
              0.2222222222222222,
              "#7201a8"
             ],
             [
              0.3333333333333333,
              "#9c179e"
             ],
             [
              0.4444444444444444,
              "#bd3786"
             ],
             [
              0.5555555555555556,
              "#d8576b"
             ],
             [
              0.6666666666666666,
              "#ed7953"
             ],
             [
              0.7777777777777778,
              "#fb9f3a"
             ],
             [
              0.8888888888888888,
              "#fdca26"
             ],
             [
              1,
              "#f0f921"
             ]
            ],
            "type": "histogram2d"
           }
          ],
          "histogram2dcontour": [
           {
            "colorbar": {
             "outlinewidth": 0,
             "ticks": ""
            },
            "colorscale": [
             [
              0,
              "#0d0887"
             ],
             [
              0.1111111111111111,
              "#46039f"
             ],
             [
              0.2222222222222222,
              "#7201a8"
             ],
             [
              0.3333333333333333,
              "#9c179e"
             ],
             [
              0.4444444444444444,
              "#bd3786"
             ],
             [
              0.5555555555555556,
              "#d8576b"
             ],
             [
              0.6666666666666666,
              "#ed7953"
             ],
             [
              0.7777777777777778,
              "#fb9f3a"
             ],
             [
              0.8888888888888888,
              "#fdca26"
             ],
             [
              1,
              "#f0f921"
             ]
            ],
            "type": "histogram2dcontour"
           }
          ],
          "mesh3d": [
           {
            "colorbar": {
             "outlinewidth": 0,
             "ticks": ""
            },
            "type": "mesh3d"
           }
          ],
          "parcoords": [
           {
            "line": {
             "colorbar": {
              "outlinewidth": 0,
              "ticks": ""
             }
            },
            "type": "parcoords"
           }
          ],
          "pie": [
           {
            "automargin": true,
            "type": "pie"
           }
          ],
          "scatter": [
           {
            "fillpattern": {
             "fillmode": "overlay",
             "size": 10,
             "solidity": 0.2
            },
            "type": "scatter"
           }
          ],
          "scatter3d": [
           {
            "line": {
             "colorbar": {
              "outlinewidth": 0,
              "ticks": ""
             }
            },
            "marker": {
             "colorbar": {
              "outlinewidth": 0,
              "ticks": ""
             }
            },
            "type": "scatter3d"
           }
          ],
          "scattercarpet": [
           {
            "marker": {
             "colorbar": {
              "outlinewidth": 0,
              "ticks": ""
             }
            },
            "type": "scattercarpet"
           }
          ],
          "scattergeo": [
           {
            "marker": {
             "colorbar": {
              "outlinewidth": 0,
              "ticks": ""
             }
            },
            "type": "scattergeo"
           }
          ],
          "scattergl": [
           {
            "marker": {
             "colorbar": {
              "outlinewidth": 0,
              "ticks": ""
             }
            },
            "type": "scattergl"
           }
          ],
          "scattermapbox": [
           {
            "marker": {
             "colorbar": {
              "outlinewidth": 0,
              "ticks": ""
             }
            },
            "type": "scattermapbox"
           }
          ],
          "scatterpolar": [
           {
            "marker": {
             "colorbar": {
              "outlinewidth": 0,
              "ticks": ""
             }
            },
            "type": "scatterpolar"
           }
          ],
          "scatterpolargl": [
           {
            "marker": {
             "colorbar": {
              "outlinewidth": 0,
              "ticks": ""
             }
            },
            "type": "scatterpolargl"
           }
          ],
          "scatterternary": [
           {
            "marker": {
             "colorbar": {
              "outlinewidth": 0,
              "ticks": ""
             }
            },
            "type": "scatterternary"
           }
          ],
          "surface": [
           {
            "colorbar": {
             "outlinewidth": 0,
             "ticks": ""
            },
            "colorscale": [
             [
              0,
              "#0d0887"
             ],
             [
              0.1111111111111111,
              "#46039f"
             ],
             [
              0.2222222222222222,
              "#7201a8"
             ],
             [
              0.3333333333333333,
              "#9c179e"
             ],
             [
              0.4444444444444444,
              "#bd3786"
             ],
             [
              0.5555555555555556,
              "#d8576b"
             ],
             [
              0.6666666666666666,
              "#ed7953"
             ],
             [
              0.7777777777777778,
              "#fb9f3a"
             ],
             [
              0.8888888888888888,
              "#fdca26"
             ],
             [
              1,
              "#f0f921"
             ]
            ],
            "type": "surface"
           }
          ],
          "table": [
           {
            "cells": {
             "fill": {
              "color": "#EBF0F8"
             },
             "line": {
              "color": "white"
             }
            },
            "header": {
             "fill": {
              "color": "#C8D4E3"
             },
             "line": {
              "color": "white"
             }
            },
            "type": "table"
           }
          ]
         },
         "layout": {
          "annotationdefaults": {
           "arrowcolor": "#2a3f5f",
           "arrowhead": 0,
           "arrowwidth": 1
          },
          "autotypenumbers": "strict",
          "coloraxis": {
           "colorbar": {
            "outlinewidth": 0,
            "ticks": ""
           }
          },
          "colorscale": {
           "diverging": [
            [
             0,
             "#8e0152"
            ],
            [
             0.1,
             "#c51b7d"
            ],
            [
             0.2,
             "#de77ae"
            ],
            [
             0.3,
             "#f1b6da"
            ],
            [
             0.4,
             "#fde0ef"
            ],
            [
             0.5,
             "#f7f7f7"
            ],
            [
             0.6,
             "#e6f5d0"
            ],
            [
             0.7,
             "#b8e186"
            ],
            [
             0.8,
             "#7fbc41"
            ],
            [
             0.9,
             "#4d9221"
            ],
            [
             1,
             "#276419"
            ]
           ],
           "sequential": [
            [
             0,
             "#0d0887"
            ],
            [
             0.1111111111111111,
             "#46039f"
            ],
            [
             0.2222222222222222,
             "#7201a8"
            ],
            [
             0.3333333333333333,
             "#9c179e"
            ],
            [
             0.4444444444444444,
             "#bd3786"
            ],
            [
             0.5555555555555556,
             "#d8576b"
            ],
            [
             0.6666666666666666,
             "#ed7953"
            ],
            [
             0.7777777777777778,
             "#fb9f3a"
            ],
            [
             0.8888888888888888,
             "#fdca26"
            ],
            [
             1,
             "#f0f921"
            ]
           ],
           "sequentialminus": [
            [
             0,
             "#0d0887"
            ],
            [
             0.1111111111111111,
             "#46039f"
            ],
            [
             0.2222222222222222,
             "#7201a8"
            ],
            [
             0.3333333333333333,
             "#9c179e"
            ],
            [
             0.4444444444444444,
             "#bd3786"
            ],
            [
             0.5555555555555556,
             "#d8576b"
            ],
            [
             0.6666666666666666,
             "#ed7953"
            ],
            [
             0.7777777777777778,
             "#fb9f3a"
            ],
            [
             0.8888888888888888,
             "#fdca26"
            ],
            [
             1,
             "#f0f921"
            ]
           ]
          },
          "colorway": [
           "#636efa",
           "#EF553B",
           "#00cc96",
           "#ab63fa",
           "#FFA15A",
           "#19d3f3",
           "#FF6692",
           "#B6E880",
           "#FF97FF",
           "#FECB52"
          ],
          "font": {
           "color": "#2a3f5f"
          },
          "geo": {
           "bgcolor": "white",
           "lakecolor": "white",
           "landcolor": "#E5ECF6",
           "showlakes": true,
           "showland": true,
           "subunitcolor": "white"
          },
          "hoverlabel": {
           "align": "left"
          },
          "hovermode": "closest",
          "mapbox": {
           "style": "light"
          },
          "paper_bgcolor": "white",
          "plot_bgcolor": "#E5ECF6",
          "polar": {
           "angularaxis": {
            "gridcolor": "white",
            "linecolor": "white",
            "ticks": ""
           },
           "bgcolor": "#E5ECF6",
           "radialaxis": {
            "gridcolor": "white",
            "linecolor": "white",
            "ticks": ""
           }
          },
          "scene": {
           "xaxis": {
            "backgroundcolor": "#E5ECF6",
            "gridcolor": "white",
            "gridwidth": 2,
            "linecolor": "white",
            "showbackground": true,
            "ticks": "",
            "zerolinecolor": "white"
           },
           "yaxis": {
            "backgroundcolor": "#E5ECF6",
            "gridcolor": "white",
            "gridwidth": 2,
            "linecolor": "white",
            "showbackground": true,
            "ticks": "",
            "zerolinecolor": "white"
           },
           "zaxis": {
            "backgroundcolor": "#E5ECF6",
            "gridcolor": "white",
            "gridwidth": 2,
            "linecolor": "white",
            "showbackground": true,
            "ticks": "",
            "zerolinecolor": "white"
           }
          },
          "shapedefaults": {
           "line": {
            "color": "#2a3f5f"
           }
          },
          "ternary": {
           "aaxis": {
            "gridcolor": "white",
            "linecolor": "white",
            "ticks": ""
           },
           "baxis": {
            "gridcolor": "white",
            "linecolor": "white",
            "ticks": ""
           },
           "bgcolor": "#E5ECF6",
           "caxis": {
            "gridcolor": "white",
            "linecolor": "white",
            "ticks": ""
           }
          },
          "title": {
           "x": 0.05
          },
          "xaxis": {
           "automargin": true,
           "gridcolor": "white",
           "linecolor": "white",
           "ticks": "",
           "title": {
            "standoff": 15
           },
           "zerolinecolor": "white",
           "zerolinewidth": 2
          },
          "yaxis": {
           "automargin": true,
           "gridcolor": "white",
           "linecolor": "white",
           "ticks": "",
           "title": {
            "standoff": 15
           },
           "zerolinecolor": "white",
           "zerolinewidth": 2
          }
         }
        },
        "title": {
         "text": "Alpha values and polynomial curve fit.  Outliers are where receptor sensitivity is too low that the program cannot calculate exponentially increasing values."
        }
       }
      }
     },
     "metadata": {},
     "output_type": "display_data"
    }
   ],
   "source": [
    "# Create a plot of the alpha values and polynomial fit.\n",
    "\n",
    "x_values = curve_fit_df['deme']\n",
    "\n",
    "# create traces\n",
    "trace0 = go.Scatter(\n",
    "    x = x_values,\n",
    "    y = curve_fit_df['alpha'],\n",
    "    mode = 'markers',\n",
    "    name = 'alpha value points'\n",
    ")\n",
    "# The second trace\n",
    "trace1 = go.Scatter(\n",
    "    x = x_values,\n",
    "    y = curve_fit_df.loc[:4, 'alpha_outliers'],\n",
    "    mode = 'markers',\n",
    "    name = 'alpha value outliers'\n",
    ")\n",
    "# The third trace\n",
    "trace2 = go.Scatter(\n",
    "    x = x_values,\n",
    "    y = curve_fit_df['Curve_Fit'],\n",
    "    mode = 'lines',\n",
    "    name = 'polynomial fit'\n",
    ")\n",
    "\n",
    "# create the data\n",
    "data = [trace0, trace1, trace2]  # assign traces to data\n",
    "\n",
    "# create the layout\n",
    "layout = go.Layout(\n",
    "    title = 'Alpha values and polynomial curve fit.  Outliers are where receptor sensitivity is too low that the program cannot calculate exponentially increasing values.'\n",
    ")\n",
    "\n",
    "# crate the fig\n",
    "fig = go.Figure(data=data,layout=layout)\n",
    "fig.show()"
   ]
  },
  {
   "cell_type": "code",
   "execution_count": 6,
   "metadata": {},
   "outputs": [
    {
     "data": {
      "application/vnd.plotly.v1+json": {
       "config": {
        "plotlyServerURL": "https://plot.ly"
       },
       "data": [
        {
         "mode": "lines",
         "name": "probability of tumbling going down gradient",
         "type": "scatter",
         "x": [
          1,
          2,
          3,
          4,
          5,
          6,
          7,
          8,
          9,
          10,
          11,
          12,
          13,
          14,
          15,
          16,
          17,
          18,
          19,
          20,
          21,
          22,
          23,
          24,
          25,
          26,
          27,
          28,
          29,
          30,
          31,
          32,
          33,
          34,
          35,
          36,
          37,
          38,
          39,
          40,
          41,
          42,
          43,
          44,
          45,
          46,
          47,
          48,
          49,
          50,
          51,
          52,
          53,
          54,
          55,
          56,
          57,
          58,
          59,
          60,
          61,
          62,
          63,
          64,
          65,
          66,
          67,
          68,
          69,
          70,
          71,
          72,
          73,
          74,
          75,
          76,
          77,
          78,
          79,
          80,
          81,
          82,
          83,
          84,
          85,
          86,
          87,
          88,
          89,
          90,
          91,
          92,
          93,
          94,
          95,
          96,
          97,
          98,
          99,
          100,
          null
         ],
         "y": [
          0.31650821661940204,
          0.31678981341492496,
          0.3171016896635298,
          0.3174490032231198,
          0.3178379263210372,
          0.3182757750465144,
          0.3187711318435651,
          0.3193339528779632,
          0.3199756507069521,
          0.320709141435629,
          0.32154884492316554,
          0.3225106268965893,
          0.3236116734931414,
          0.3248702923616465,
          0.3263056403677287,
          0.3279373870617736,
          0.32978533530459764,
          0.3318690359002064,
          0.3342074514826293,
          0.33681874390796834,
          0.33972027577761404,
          0.34292892668654706,
          0.34646181950545035,
          0.3503375253216284,
          0.35457775872339303,
          0.35920948267832925,
          0.3642672156807885,
          0.3697951823695747,
          0.37584879456616793,
          0.3824948233075454,
          0.38980956205137085,
          0.3978743226937408,
          0.4067677760163116,
          0.4165549616010998,
          0.4272732484466608,
          0.43891611626791877,
          0.4514163183068239,
          0.4646307187423809,
          0.47832974363816727,
          0.4921947378075414,
          0.5058263015771607,
          0.5187656211854598,
          0.5305287906123823,
          0.5406513546193392,
          0.5487373889517616,
          0.554505268108903,
          0.5578217624998769,
          0.5587177021618124,
          0.5573819028614704,
          0.5541344090121115,
          0.5493840756919474,
          0.5435779930597483,
          0.5371507801384312,
          0.5304805834824354,
          0.5238564408193336,
          0.5174593274205599,
          0.5113572794922795,
          0.5055136547874233,
          0.49980670552119677,
          0.4940578994912107,
          0.48806563461287084,
          0.48164019628484345,
          0.4746352963984914,
          0.46697172519819985,
          0.4586497938970652,
          0.4497492596633617,
          0.4404178185778624,
          0.43085133095880923,
          0.4212701192393027,
          0.41189571018114174,
          0.4029314571393595,
          0.39454902440286016,
          0.3868812387032771,
          0.38002067262914596,
          0.3740226631335529,
          0.36891125010955145,
          0.3646866102023805,
          0.3613328071869142,
          0.35882496305665074,
          0.3571352035493212,
          0.356236922435119,
          0.3561070482661192,
          0.35672610952897227,
          0.35807601658782373,
          0.36013565522735147,
          0.36287467029989423,
          0.36624626482779865,
          0.3701804979649726,
          0.3745804339667801,
          0.3793244611548309,
          0.38427885074143264,
          0.38932457288837896,
          0.3944007099030548,
          0.3995626872603883,
          0.4050465861156292,
          0.4113212498091305,
          0.41909788040124146,
          0.42924985897504886,
          0.44256514561654364,
          0.4591964123859618,
          0.47759392143858126
         ]
        },
        {
         "mode": "lines",
         "name": "probability of tumbling going up gradient",
         "type": "scatter",
         "x": [
          1,
          2,
          3,
          4,
          5,
          6,
          7,
          8,
          9,
          10,
          11,
          12,
          13,
          14,
          15,
          16,
          17,
          18,
          19,
          20,
          21,
          22,
          23,
          24,
          25,
          26,
          27,
          28,
          29,
          30,
          31,
          32,
          33,
          34,
          35,
          36,
          37,
          38,
          39,
          40,
          41,
          42,
          43,
          44,
          45,
          46,
          47,
          48,
          49,
          50,
          51,
          52,
          53,
          54,
          55,
          56,
          57,
          58,
          59,
          60,
          61,
          62,
          63,
          64,
          65,
          66,
          67,
          68,
          69,
          70,
          71,
          72,
          73,
          74,
          75,
          76,
          77,
          78,
          79,
          80,
          81,
          82,
          83,
          84,
          85,
          86,
          87,
          88,
          89,
          90,
          91,
          92,
          93,
          94,
          95,
          96,
          97,
          98,
          99,
          100,
          null
         ],
         "y": [
          0.3104929996889608,
          0.3102170001774798,
          0.30991189516724954,
          0.3095728277820098,
          0.3091940182906264,
          0.3087686632449465,
          0.3082888498591795,
          0.30774549564392184,
          0.3071283248810856,
          0.30642589470461506,
          0.3056256837988149,
          0.30471425562008614,
          0.3036775050280884,
          0.30250099167258765,
          0.3011703551725694,
          0.29967179553653556,
          0.29799258815918456,
          0.2961215870525281,
          0.29404965439398467,
          0.29176994268232775,
          0.2892779519250505,
          0.2865712920572261,
          0.2836491066884083,
          0.2805111599567908,
          0.2771566551669278,
          0.27358293793252997,
          0.26978432692795445,
          0.26575139506859924,
          0.26147106768772826,
          0.2569278840287586,
          0.2521066571255905,
          0.2469965514211042,
          0.24159629006703995,
          0.23591985371301383,
          0.230001728312344,
          0.22390060870850864,
          0.2177005606996374,
          0.21150901488037493,
          0.2054515465772512,
          0.19966403144031294,
          0.19428326541728969,
          0.1894373520353781,
          0.185237045271239,
          0.18176886965085629,
          0.1790903765316429,
          0.17722750577197574,
          0.17617381072396443,
          0.1758913047217182,
          0.17631283882710863,
          0.17734611676535256,
          0.17887956705076735,
          0.18079022119933327,
          0.18295344480191403,
          0.18525387858538928,
          0.18759640608915204,
          0.18991557480321672,
          0.1921818453468311,
          0.1944034244647401,
          0.19662318356029693,
          0.1989110703534249,
          0.20135321693425773,
          0.20403941855850055,
          0.20705073210959352,
          0.21044868522318058,
          0.21426715309157443,
          0.2185074983290012,
          0.22313716988493631,
          0.22809163751604336,
          0.2332792693244336,
          0.23858851445950532,
          0.24389653342546605,
          0.2490782628422313,
          0.2540148649589431,
          0.25860063065638705,
          0.26274767625316553,
          0.266388150470278,
          0.2694740713124215,
          0.27197526393867,
          0.2738761115369954,
          0.2751719366438479,
          0.27586580563461943,
          0.27596641538788524,
          0.2754875042203213,
          0.2744489467371474,
          0.27287935581474715,
          0.2708196345673406,
          0.26832651972728716,
          0.26547477823550947,
          0.26235643053656404,
          0.2590752658164291,
          0.25573508772275966,
          0.2524207112725377,
          0.24917192879423966,
          0.24595285980824905,
          0.24262292035787525,
          0.23892173246571732,
          0.2344883861265895,
          0.22894261593705947,
          0.22205450785658967,
          0.21401209363491508,
          0.2057680828691191
         ]
        }
       ],
       "layout": {
        "template": {
         "data": {
          "bar": [
           {
            "error_x": {
             "color": "#2a3f5f"
            },
            "error_y": {
             "color": "#2a3f5f"
            },
            "marker": {
             "line": {
              "color": "#E5ECF6",
              "width": 0.5
             },
             "pattern": {
              "fillmode": "overlay",
              "size": 10,
              "solidity": 0.2
             }
            },
            "type": "bar"
           }
          ],
          "barpolar": [
           {
            "marker": {
             "line": {
              "color": "#E5ECF6",
              "width": 0.5
             },
             "pattern": {
              "fillmode": "overlay",
              "size": 10,
              "solidity": 0.2
             }
            },
            "type": "barpolar"
           }
          ],
          "carpet": [
           {
            "aaxis": {
             "endlinecolor": "#2a3f5f",
             "gridcolor": "white",
             "linecolor": "white",
             "minorgridcolor": "white",
             "startlinecolor": "#2a3f5f"
            },
            "baxis": {
             "endlinecolor": "#2a3f5f",
             "gridcolor": "white",
             "linecolor": "white",
             "minorgridcolor": "white",
             "startlinecolor": "#2a3f5f"
            },
            "type": "carpet"
           }
          ],
          "choropleth": [
           {
            "colorbar": {
             "outlinewidth": 0,
             "ticks": ""
            },
            "type": "choropleth"
           }
          ],
          "contour": [
           {
            "colorbar": {
             "outlinewidth": 0,
             "ticks": ""
            },
            "colorscale": [
             [
              0,
              "#0d0887"
             ],
             [
              0.1111111111111111,
              "#46039f"
             ],
             [
              0.2222222222222222,
              "#7201a8"
             ],
             [
              0.3333333333333333,
              "#9c179e"
             ],
             [
              0.4444444444444444,
              "#bd3786"
             ],
             [
              0.5555555555555556,
              "#d8576b"
             ],
             [
              0.6666666666666666,
              "#ed7953"
             ],
             [
              0.7777777777777778,
              "#fb9f3a"
             ],
             [
              0.8888888888888888,
              "#fdca26"
             ],
             [
              1,
              "#f0f921"
             ]
            ],
            "type": "contour"
           }
          ],
          "contourcarpet": [
           {
            "colorbar": {
             "outlinewidth": 0,
             "ticks": ""
            },
            "type": "contourcarpet"
           }
          ],
          "heatmap": [
           {
            "colorbar": {
             "outlinewidth": 0,
             "ticks": ""
            },
            "colorscale": [
             [
              0,
              "#0d0887"
             ],
             [
              0.1111111111111111,
              "#46039f"
             ],
             [
              0.2222222222222222,
              "#7201a8"
             ],
             [
              0.3333333333333333,
              "#9c179e"
             ],
             [
              0.4444444444444444,
              "#bd3786"
             ],
             [
              0.5555555555555556,
              "#d8576b"
             ],
             [
              0.6666666666666666,
              "#ed7953"
             ],
             [
              0.7777777777777778,
              "#fb9f3a"
             ],
             [
              0.8888888888888888,
              "#fdca26"
             ],
             [
              1,
              "#f0f921"
             ]
            ],
            "type": "heatmap"
           }
          ],
          "heatmapgl": [
           {
            "colorbar": {
             "outlinewidth": 0,
             "ticks": ""
            },
            "colorscale": [
             [
              0,
              "#0d0887"
             ],
             [
              0.1111111111111111,
              "#46039f"
             ],
             [
              0.2222222222222222,
              "#7201a8"
             ],
             [
              0.3333333333333333,
              "#9c179e"
             ],
             [
              0.4444444444444444,
              "#bd3786"
             ],
             [
              0.5555555555555556,
              "#d8576b"
             ],
             [
              0.6666666666666666,
              "#ed7953"
             ],
             [
              0.7777777777777778,
              "#fb9f3a"
             ],
             [
              0.8888888888888888,
              "#fdca26"
             ],
             [
              1,
              "#f0f921"
             ]
            ],
            "type": "heatmapgl"
           }
          ],
          "histogram": [
           {
            "marker": {
             "pattern": {
              "fillmode": "overlay",
              "size": 10,
              "solidity": 0.2
             }
            },
            "type": "histogram"
           }
          ],
          "histogram2d": [
           {
            "colorbar": {
             "outlinewidth": 0,
             "ticks": ""
            },
            "colorscale": [
             [
              0,
              "#0d0887"
             ],
             [
              0.1111111111111111,
              "#46039f"
             ],
             [
              0.2222222222222222,
              "#7201a8"
             ],
             [
              0.3333333333333333,
              "#9c179e"
             ],
             [
              0.4444444444444444,
              "#bd3786"
             ],
             [
              0.5555555555555556,
              "#d8576b"
             ],
             [
              0.6666666666666666,
              "#ed7953"
             ],
             [
              0.7777777777777778,
              "#fb9f3a"
             ],
             [
              0.8888888888888888,
              "#fdca26"
             ],
             [
              1,
              "#f0f921"
             ]
            ],
            "type": "histogram2d"
           }
          ],
          "histogram2dcontour": [
           {
            "colorbar": {
             "outlinewidth": 0,
             "ticks": ""
            },
            "colorscale": [
             [
              0,
              "#0d0887"
             ],
             [
              0.1111111111111111,
              "#46039f"
             ],
             [
              0.2222222222222222,
              "#7201a8"
             ],
             [
              0.3333333333333333,
              "#9c179e"
             ],
             [
              0.4444444444444444,
              "#bd3786"
             ],
             [
              0.5555555555555556,
              "#d8576b"
             ],
             [
              0.6666666666666666,
              "#ed7953"
             ],
             [
              0.7777777777777778,
              "#fb9f3a"
             ],
             [
              0.8888888888888888,
              "#fdca26"
             ],
             [
              1,
              "#f0f921"
             ]
            ],
            "type": "histogram2dcontour"
           }
          ],
          "mesh3d": [
           {
            "colorbar": {
             "outlinewidth": 0,
             "ticks": ""
            },
            "type": "mesh3d"
           }
          ],
          "parcoords": [
           {
            "line": {
             "colorbar": {
              "outlinewidth": 0,
              "ticks": ""
             }
            },
            "type": "parcoords"
           }
          ],
          "pie": [
           {
            "automargin": true,
            "type": "pie"
           }
          ],
          "scatter": [
           {
            "fillpattern": {
             "fillmode": "overlay",
             "size": 10,
             "solidity": 0.2
            },
            "type": "scatter"
           }
          ],
          "scatter3d": [
           {
            "line": {
             "colorbar": {
              "outlinewidth": 0,
              "ticks": ""
             }
            },
            "marker": {
             "colorbar": {
              "outlinewidth": 0,
              "ticks": ""
             }
            },
            "type": "scatter3d"
           }
          ],
          "scattercarpet": [
           {
            "marker": {
             "colorbar": {
              "outlinewidth": 0,
              "ticks": ""
             }
            },
            "type": "scattercarpet"
           }
          ],
          "scattergeo": [
           {
            "marker": {
             "colorbar": {
              "outlinewidth": 0,
              "ticks": ""
             }
            },
            "type": "scattergeo"
           }
          ],
          "scattergl": [
           {
            "marker": {
             "colorbar": {
              "outlinewidth": 0,
              "ticks": ""
             }
            },
            "type": "scattergl"
           }
          ],
          "scattermapbox": [
           {
            "marker": {
             "colorbar": {
              "outlinewidth": 0,
              "ticks": ""
             }
            },
            "type": "scattermapbox"
           }
          ],
          "scatterpolar": [
           {
            "marker": {
             "colorbar": {
              "outlinewidth": 0,
              "ticks": ""
             }
            },
            "type": "scatterpolar"
           }
          ],
          "scatterpolargl": [
           {
            "marker": {
             "colorbar": {
              "outlinewidth": 0,
              "ticks": ""
             }
            },
            "type": "scatterpolargl"
           }
          ],
          "scatterternary": [
           {
            "marker": {
             "colorbar": {
              "outlinewidth": 0,
              "ticks": ""
             }
            },
            "type": "scatterternary"
           }
          ],
          "surface": [
           {
            "colorbar": {
             "outlinewidth": 0,
             "ticks": ""
            },
            "colorscale": [
             [
              0,
              "#0d0887"
             ],
             [
              0.1111111111111111,
              "#46039f"
             ],
             [
              0.2222222222222222,
              "#7201a8"
             ],
             [
              0.3333333333333333,
              "#9c179e"
             ],
             [
              0.4444444444444444,
              "#bd3786"
             ],
             [
              0.5555555555555556,
              "#d8576b"
             ],
             [
              0.6666666666666666,
              "#ed7953"
             ],
             [
              0.7777777777777778,
              "#fb9f3a"
             ],
             [
              0.8888888888888888,
              "#fdca26"
             ],
             [
              1,
              "#f0f921"
             ]
            ],
            "type": "surface"
           }
          ],
          "table": [
           {
            "cells": {
             "fill": {
              "color": "#EBF0F8"
             },
             "line": {
              "color": "white"
             }
            },
            "header": {
             "fill": {
              "color": "#C8D4E3"
             },
             "line": {
              "color": "white"
             }
            },
            "type": "table"
           }
          ]
         },
         "layout": {
          "annotationdefaults": {
           "arrowcolor": "#2a3f5f",
           "arrowhead": 0,
           "arrowwidth": 1
          },
          "autotypenumbers": "strict",
          "coloraxis": {
           "colorbar": {
            "outlinewidth": 0,
            "ticks": ""
           }
          },
          "colorscale": {
           "diverging": [
            [
             0,
             "#8e0152"
            ],
            [
             0.1,
             "#c51b7d"
            ],
            [
             0.2,
             "#de77ae"
            ],
            [
             0.3,
             "#f1b6da"
            ],
            [
             0.4,
             "#fde0ef"
            ],
            [
             0.5,
             "#f7f7f7"
            ],
            [
             0.6,
             "#e6f5d0"
            ],
            [
             0.7,
             "#b8e186"
            ],
            [
             0.8,
             "#7fbc41"
            ],
            [
             0.9,
             "#4d9221"
            ],
            [
             1,
             "#276419"
            ]
           ],
           "sequential": [
            [
             0,
             "#0d0887"
            ],
            [
             0.1111111111111111,
             "#46039f"
            ],
            [
             0.2222222222222222,
             "#7201a8"
            ],
            [
             0.3333333333333333,
             "#9c179e"
            ],
            [
             0.4444444444444444,
             "#bd3786"
            ],
            [
             0.5555555555555556,
             "#d8576b"
            ],
            [
             0.6666666666666666,
             "#ed7953"
            ],
            [
             0.7777777777777778,
             "#fb9f3a"
            ],
            [
             0.8888888888888888,
             "#fdca26"
            ],
            [
             1,
             "#f0f921"
            ]
           ],
           "sequentialminus": [
            [
             0,
             "#0d0887"
            ],
            [
             0.1111111111111111,
             "#46039f"
            ],
            [
             0.2222222222222222,
             "#7201a8"
            ],
            [
             0.3333333333333333,
             "#9c179e"
            ],
            [
             0.4444444444444444,
             "#bd3786"
            ],
            [
             0.5555555555555556,
             "#d8576b"
            ],
            [
             0.6666666666666666,
             "#ed7953"
            ],
            [
             0.7777777777777778,
             "#fb9f3a"
            ],
            [
             0.8888888888888888,
             "#fdca26"
            ],
            [
             1,
             "#f0f921"
            ]
           ]
          },
          "colorway": [
           "#636efa",
           "#EF553B",
           "#00cc96",
           "#ab63fa",
           "#FFA15A",
           "#19d3f3",
           "#FF6692",
           "#B6E880",
           "#FF97FF",
           "#FECB52"
          ],
          "font": {
           "color": "#2a3f5f"
          },
          "geo": {
           "bgcolor": "white",
           "lakecolor": "white",
           "landcolor": "#E5ECF6",
           "showlakes": true,
           "showland": true,
           "subunitcolor": "white"
          },
          "hoverlabel": {
           "align": "left"
          },
          "hovermode": "closest",
          "mapbox": {
           "style": "light"
          },
          "paper_bgcolor": "white",
          "plot_bgcolor": "#E5ECF6",
          "polar": {
           "angularaxis": {
            "gridcolor": "white",
            "linecolor": "white",
            "ticks": ""
           },
           "bgcolor": "#E5ECF6",
           "radialaxis": {
            "gridcolor": "white",
            "linecolor": "white",
            "ticks": ""
           }
          },
          "scene": {
           "xaxis": {
            "backgroundcolor": "#E5ECF6",
            "gridcolor": "white",
            "gridwidth": 2,
            "linecolor": "white",
            "showbackground": true,
            "ticks": "",
            "zerolinecolor": "white"
           },
           "yaxis": {
            "backgroundcolor": "#E5ECF6",
            "gridcolor": "white",
            "gridwidth": 2,
            "linecolor": "white",
            "showbackground": true,
            "ticks": "",
            "zerolinecolor": "white"
           },
           "zaxis": {
            "backgroundcolor": "#E5ECF6",
            "gridcolor": "white",
            "gridwidth": 2,
            "linecolor": "white",
            "showbackground": true,
            "ticks": "",
            "zerolinecolor": "white"
           }
          },
          "shapedefaults": {
           "line": {
            "color": "#2a3f5f"
           }
          },
          "ternary": {
           "aaxis": {
            "gridcolor": "white",
            "linecolor": "white",
            "ticks": ""
           },
           "baxis": {
            "gridcolor": "white",
            "linecolor": "white",
            "ticks": ""
           },
           "bgcolor": "#E5ECF6",
           "caxis": {
            "gridcolor": "white",
            "linecolor": "white",
            "ticks": ""
           }
          },
          "title": {
           "x": 0.05
          },
          "xaxis": {
           "automargin": true,
           "gridcolor": "white",
           "linecolor": "white",
           "ticks": "",
           "title": {
            "standoff": 15
           },
           "zerolinecolor": "white",
           "zerolinewidth": 2
          },
          "yaxis": {
           "automargin": true,
           "gridcolor": "white",
           "linecolor": "white",
           "ticks": "",
           "title": {
            "standoff": 15
           },
           "zerolinecolor": "white",
           "zerolinewidth": 2
          }
         }
        },
        "title": {
         "text": "probability of tumbling = exp(-d +/- alpha*receptor)"
        }
       }
      }
     },
     "metadata": {},
     "output_type": "display_data"
    }
   ],
   "source": [
    "# Create a plot of the alpha values and polynomial fit.\n",
    "\n",
    "x_values = curve_fit_df['deme']\n",
    "\n",
    "# create traces\n",
    "trace0 = go.Scatter(\n",
    "    x = x_values,\n",
    "    y = input_param_df['prob_tum_down'],\n",
    "    mode = 'lines',\n",
    "    name = 'probability of tumbling going down gradient'\n",
    ")\n",
    "# The second trace\n",
    "trace1 = go.Scatter(\n",
    "    x = x_values,\n",
    "    y = input_param_df['prob_tum_up'],\n",
    "    mode = 'lines',\n",
    "    name = 'probability of tumbling going up gradient'\n",
    ")\n",
    "# create the data\n",
    "data = [trace0, trace1]  # assign traces to data\n",
    "\n",
    "# create the layout\n",
    "layout = go.Layout(\n",
    "    title = \"probability of tumbling = exp(-d +/- alpha*receptor)\"\n",
    ")\n",
    "\n",
    "# crate the fig\n",
    "fig = go.Figure(data=data,layout=layout)\n",
    "fig.show()"
   ]
  },
  {
   "cell_type": "code",
   "execution_count": 2,
   "metadata": {},
   "outputs": [],
   "source": [
    "pos_v_time_df = pd.read_excel('pos_v_time_MaxC_60000_Grad_0.000405_No1.xlsx')\n",
    "pos_v_time_df2 = pd.read_excel('pos_v_time_MaxC_60000_Grad_0.000405_No2.xlsx')\n",
    "pos_v_time_df3 = pd.read_excel('pos_v_time_MaxC_60000_Grad_0.000405_No3.xlsx')\n",
    "pos_v_time_df4 = pd.read_excel('pos_v_time_MaxC_60000_Grad_0.000405_No4.xlsx')"
   ]
  },
  {
   "cell_type": "code",
   "execution_count": 7,
   "metadata": {},
   "outputs": [
    {
     "name": "stdout",
     "output_type": "stream",
     "text": [
      "               time      position  drift_velocity\n",
      "count  26001.000000  26001.000000    26001.000000\n",
      "mean   13000.000000  13201.983310        1.192554\n",
      "std     7505.986511  10437.502400        8.185214\n",
      "min        0.000000      0.000000      -12.521185\n",
      "25%     6500.000000   3627.910732       -6.593762\n",
      "50%    13000.000000  10019.291827        2.231642\n",
      "75%    19500.000000  24915.366197        8.783177\n",
      "max    26000.000000  31010.756208       12.521185\n",
      "               time      position  drift_velocity\n",
      "count  31945.000000  31945.000000    31945.000000\n",
      "mean   15972.000000   8400.769229        0.979844\n",
      "std     9221.871511   9532.942836        8.279225\n",
      "min        0.000000      0.000000      -12.521185\n",
      "25%     7986.000000   1572.925210       -6.809762\n",
      "50%    15972.000000   3655.519847        1.742612\n",
      "75%    23958.000000  12690.874695        8.853815\n",
      "max    31944.000000  31301.112065       12.521185\n"
     ]
    }
   ],
   "source": [
    "pos_v_time_df['drift_velocity'] = 0\n",
    "for i in pos_v_time_df.index[1:]:\n",
    "    pos_v_time_df.loc[i, 'drift_velocity'] = pos_v_time_df.loc[i, 'position'] - pos_v_time_df.loc[i-1, 'position'] # divided by (dt = 1s)\n",
    "\n",
    "pos_v_time_df2['drift_velocity'] = 0\n",
    "for i in pos_v_time_df2.index[1:]:\n",
    "    pos_v_time_df2.loc[i, 'drift_velocity'] = pos_v_time_df2.loc[i, 'position'] - pos_v_time_df2.loc[i-1, 'position'] # divided by (dt = 1s)\n",
    "\n",
    "print(f\"{pos_v_time_df.describe()}\\n{pos_v_time_df2.describe()}\")"
   ]
  },
  {
   "cell_type": "code",
   "execution_count": 8,
   "metadata": {},
   "outputs": [
    {
     "name": "stdout",
     "output_type": "stream",
     "text": [
      "               time      position  drift_velocity\n",
      "count  14555.000000  14555.000000    14555.000000\n",
      "mean    7277.000000  19526.709735        1.746250\n",
      "std     4201.810919   7920.124910        8.180275\n",
      "min        0.000000   5743.687293      -12.521185\n",
      "25%     3638.500000  11512.417578       -5.878340\n",
      "50%     7277.000000  23422.125133        3.240721\n",
      "75%    10915.500000  25273.558731        9.287579\n",
      "max    14554.000000  31307.925030       12.521185\n",
      "               time      position  drift_velocity\n",
      "count  30067.000000  30067.000000    30067.000000\n",
      "mean   15033.000000  10552.027162        1.041029\n",
      "std     8679.739608  10541.696936        8.222859\n",
      "min        0.000000      0.000000      -12.521185\n",
      "25%     7516.500000   1075.166139       -6.819526\n",
      "50%    15033.000000   5786.475033        1.958745\n",
      "75%    22549.500000  22379.120484        8.759086\n",
      "max    30066.000000  31301.860912       12.521185\n"
     ]
    }
   ],
   "source": [
    "pos_v_time_df3['drift_velocity'] = 0\n",
    "for i in pos_v_time_df3.index[1:]:\n",
    "    pos_v_time_df3.loc[i, 'drift_velocity'] = pos_v_time_df3.loc[i, 'position'] - pos_v_time_df3.loc[i-1, 'position'] # divided by (dt = 1s)\n",
    "\n",
    "pos_v_time_df4['drift_velocity'] = 0\n",
    "for i in pos_v_time_df4.index[1:]:\n",
    "    pos_v_time_df4.loc[i, 'drift_velocity'] = pos_v_time_df4.loc[i, 'position'] - pos_v_time_df4.loc[i-1, 'position'] # divided by (dt = 1s)\n",
    "\n",
    "print(f\"{pos_v_time_df3.describe()}\\n{pos_v_time_df4.describe()}\")"
   ]
  },
  {
   "cell_type": "code",
   "execution_count": 13,
   "metadata": {},
   "outputs": [
    {
     "data": {
      "image/png": "[encoded data removed]",
      "text/plain": [
       "<Figure size 1000x1000 with 2 Axes>"
      ]
     },
     "metadata": {},
     "output_type": "display_data"
    }
   ],
   "source": [
    "hist_bins = 120\n",
    "counts, bins = np.histogram(pos_v_time_df['drift_velocity'], bins=hist_bins, density=False)\n",
    "counts2, bins2 = np.histogram(pos_v_time_df2['drift_velocity'], bins=hist_bins, density=False)\n",
    "counts3, bins3 = np.histogram(pos_v_time_df3['drift_velocity'], bins=hist_bins, density=False)\n",
    "counts4, bins4 = np.histogram(pos_v_time_df4['drift_velocity'], bins=hist_bins, density=False)\n",
    "fig, axes = plt.subplots(2, 1, figsize=(10, 10))\n",
    "plot2 = axes[0].scatter(x=pos_v_time_df2['time'], y=pos_v_time_df2['position'])\n",
    "plot1 = axes[0].scatter(x=pos_v_time_df['time'], y=pos_v_time_df['position'])\n",
    "# plot3 = axes[0].scatter(x=pos_v_time_df3['time'], y=pos_v_time_df3['position'])\n",
    "plot3 = axes[0].scatter(x=pos_v_time_df4['time'], y=pos_v_time_df4['position'])\n",
    "axes[0].set_title('Position (x) vs. Time (t)')\n",
    "axes[0].set_xlabel('t [s]')\n",
    "axes[0].set_ylabel('x [µm]')\n",
    "axes[0].legend([plot1, plot2, plot3], ['1', '2', '3'])\n",
    "\n",
    "axes[1].hist(bins[:-1], bins2, weights=counts2)\n",
    "axes[1].hist(bins[:-1], bins, weights=counts)\n",
    "# axes[1].hist(bins[:-1], bins3, weights=counts3)\n",
    "axes[1].hist(bins[:-1], bins4, weights=counts4)\n",
    "axes[1].set_title('Drift Velocity Histogram')\n",
    "axes[1].set_xlabel('v [µm/s]')\n",
    "axes[1].set_ylabel('Drift Velocity Count')\n",
    "plt.show()"
   ]
  },
  {
   "cell_type": "code",
   "execution_count": 31,
   "metadata": {},
   "outputs": [],
   "source": [
    "# For deme i = 20, position = 6200.\n",
    "# Get a list of time where the bacteria is past this position\n",
    "time1 = pos_v_time_df[pos_v_time_df['position'] >= 6200].iloc[0, 0]\n",
    "time2 = pos_v_time_df2[pos_v_time_df2['position'] >= 6200].iloc[0, 0]\n",
    "time3 = pos_v_time_df3[pos_v_time_df3['position'] >= 6200].iloc[0, 0]\n",
    "time4 = pos_v_time_df4[pos_v_time_df4['position'] >= 6200].iloc[0, 0]"
   ]
  },
  {
   "cell_type": "code",
   "execution_count": 32,
   "metadata": {},
   "outputs": [
    {
     "name": "stderr",
     "output_type": "stream",
     "text": [
      "C:\\Users\\Mike\\AppData\\Local\\Temp\\ipykernel_10632\\1968529346.py:3: SettingWithCopyWarning: \n",
      "A value is trying to be set on a copy of a slice from a DataFrame.\n",
      "Try using .loc[row_indexer,col_indexer] = value instead\n",
      "\n",
      "See the caveats in the documentation: https://pandas.pydata.org/pandas-docs/stable/user_guide/indexing.html#returning-a-view-versus-a-copy\n",
      "  pos_v_time_df_timefilt['time'] = pos_v_time_df_timefilt['time'] - time1\n",
      "C:\\Users\\Mike\\AppData\\Local\\Temp\\ipykernel_10632\\1968529346.py:8: SettingWithCopyWarning: \n",
      "A value is trying to be set on a copy of a slice from a DataFrame.\n",
      "Try using .loc[row_indexer,col_indexer] = value instead\n",
      "\n",
      "See the caveats in the documentation: https://pandas.pydata.org/pandas-docs/stable/user_guide/indexing.html#returning-a-view-versus-a-copy\n",
      "  pos_v_time_df2_timefilt['time'] = pos_v_time_df2_timefilt['time'] - time2\n",
      "C:\\Users\\Mike\\AppData\\Local\\Temp\\ipykernel_10632\\1968529346.py:13: SettingWithCopyWarning: \n",
      "A value is trying to be set on a copy of a slice from a DataFrame.\n",
      "Try using .loc[row_indexer,col_indexer] = value instead\n",
      "\n",
      "See the caveats in the documentation: https://pandas.pydata.org/pandas-docs/stable/user_guide/indexing.html#returning-a-view-versus-a-copy\n",
      "  pos_v_time_df3_timefilt['time'] = pos_v_time_df3_timefilt['time'] - time3\n",
      "C:\\Users\\Mike\\AppData\\Local\\Temp\\ipykernel_10632\\1968529346.py:18: SettingWithCopyWarning: \n",
      "A value is trying to be set on a copy of a slice from a DataFrame.\n",
      "Try using .loc[row_indexer,col_indexer] = value instead\n",
      "\n",
      "See the caveats in the documentation: https://pandas.pydata.org/pandas-docs/stable/user_guide/indexing.html#returning-a-view-versus-a-copy\n",
      "  pos_v_time_df4_timefilt['time'] = pos_v_time_df4_timefilt['time'] - time4\n"
     ]
    },
    {
     "data": {
      "image/png": "[encoded data removed]",
      "text/plain": [
       "<Figure size 1000x1000 with 2 Axes>"
      ]
     },
     "metadata": {},
     "output_type": "display_data"
    }
   ],
   "source": [
    "hist_bins = 120\n",
    "pos_v_time_df_timefilt = pos_v_time_df[pos_v_time_df['time'] >= time1]\n",
    "pos_v_time_df_timefilt['time'] = pos_v_time_df_timefilt['time'] - time1\n",
    "pos_v_time_df_timefilt = pos_v_time_df_timefilt.reset_index(drop=False)\n",
    "counts, bins = np.histogram(pos_v_time_df_timefilt['drift_velocity'], bins=hist_bins, density=False)\n",
    "\n",
    "pos_v_time_df2_timefilt = pos_v_time_df2[pos_v_time_df2['time'] >= time2]\n",
    "pos_v_time_df2_timefilt['time'] = pos_v_time_df2_timefilt['time'] - time2\n",
    "pos_v_time_df2_timefilt = pos_v_time_df2_timefilt.reset_index(drop=False)\n",
    "counts2, bins2 = np.histogram(pos_v_time_df2_timefilt['drift_velocity'], bins=hist_bins, density=False)\n",
    "\n",
    "pos_v_time_df3_timefilt = pos_v_time_df3[pos_v_time_df3['time'] >= time3]\n",
    "pos_v_time_df3_timefilt['time'] = pos_v_time_df3_timefilt['time'] - time3\n",
    "pos_v_time_df3_timefilt = pos_v_time_df3_timefilt.reset_index(drop=False)\n",
    "counts3, bins3 = np.histogram(pos_v_time_df3_timefilt['drift_velocity'], bins=hist_bins, density=False)\n",
    "\n",
    "pos_v_time_df4_timefilt = pos_v_time_df4[pos_v_time_df4['time'] >= time4]\n",
    "pos_v_time_df4_timefilt['time'] = pos_v_time_df4_timefilt['time'] - time4\n",
    "pos_v_time_df4_timefilt = pos_v_time_df4_timefilt.reset_index(drop=False)\n",
    "counts4, bins4 = np.histogram(pos_v_time_df4_timefilt['drift_velocity'], bins=hist_bins, density=False)\n",
    "\n",
    "fig, axes = plt.subplots(2, 1, figsize=(10, 10))\n",
    "plot2 = axes[0].scatter(x=pos_v_time_df2_timefilt['time'], y=pos_v_time_df2_timefilt['position'])\n",
    "plot1 = axes[0].scatter(x=pos_v_time_df_timefilt['time'], y=pos_v_time_df_timefilt['position'])\n",
    "# plot3 = axes[0].scatter(x=pos_v_time_df3_timefilt['time'], y=pos_v_time_df3_timefilt['position'])\n",
    "plot4 = axes[0].scatter(x=pos_v_time_df4_timefilt['time'], y=pos_v_time_df4_timefilt['position'])\n",
    "axes[0].set_title('Position (x) vs. Time (t)')\n",
    "axes[0].set_xlabel('t [s]')\n",
    "axes[0].set_ylabel('x [µm]')\n",
    "axes[0].legend([plot1, plot2, plot4], ['1', '2', '3'])\n",
    "\n",
    "axes[1].hist(bins[:-1], bins2, weights=counts2)\n",
    "axes[1].hist(bins[:-1], bins, weights=counts)\n",
    "# axes[1].hist(bins[:-1], bins3, weights=counts3)\n",
    "axes[1].hist(bins[:-1], bins4, weights=counts4)\n",
    "axes[1].set_title('Drift Velocity Histogram')\n",
    "axes[1].set_xlabel('v [µm/s]')\n",
    "axes[1].set_ylabel('Drift Velocity Count')\n",
    "plt.show()"
   ]
  },
  {
   "cell_type": "code",
   "execution_count": 19,
   "metadata": {},
   "outputs": [],
   "source": [
    "def approx_drift_velocity(dataframe, vel=None,time=None):\n",
    "    if vel is None or time is None:\n",
    "        vel = []\n",
    "        time = []\n",
    "        vel.append(0)\n",
    "        time.append(0)\n",
    "    for i in dataframe.index:\n",
    "        if (i % 500 == 0) and (i > 0):\n",
    "            del_vel = (dataframe.loc[i, 'position'] - dataframe.loc[i-500, 'position'])/500\n",
    "            vel.append(del_vel)\n",
    "            time.append(i)\n",
    "    return vel, time"
   ]
  },
  {
   "cell_type": "code",
   "execution_count": 29,
   "metadata": {},
   "outputs": [
    {
     "data": {
      "image/png": "[encoded data removed]",
      "text/plain": [
       "<Figure size 640x480 with 1 Axes>"
      ]
     },
     "metadata": {},
     "output_type": "display_data"
    }
   ],
   "source": [
    "vel1, time1 = approx_drift_velocity(pos_v_time_df_timefilt)\n",
    "vel2, time2 = approx_drift_velocity(pos_v_time_df2_timefilt)\n",
    "# vel3, time3 = approx_drift_velocity(pos_v_time_df3)\n",
    "vel4, time4 = approx_drift_velocity(pos_v_time_df4_timefilt)\n",
    "# reg_coef = np.polyfit(time, vel, 3)\n",
    "fig, axes = plt.subplots()\n",
    "plot2 = axes.scatter(x=time2, y=vel2)\n",
    "plot1 = axes.scatter(x=time1, y=vel1)\n",
    "# plot3 = axes.scatter(x=time3, y=vel3)\n",
    "plot4 = axes.scatter(x=time4, y=vel4)\n",
    "axes.legend([plot1, plot2, plot4], ['1', '2', '3'])\n",
    "plt.show()"
   ]
  }
 ],
 "metadata": {
  "kernelspec": {
   "display_name": "base",
   "language": "python",
   "name": "python3"
  },
  "language_info": {
   "codemirror_mode": {
    "name": "ipython",
    "version": 3
   },
   "file_extension": ".py",
   "mimetype": "text/x-python",
   "name": "python",
   "nbconvert_exporter": "python",
   "pygments_lexer": "ipython3",
   "version": "3.9.13"
  },
  "orig_nbformat": 4
 },
 "nbformat": 4,
 "nbformat_minor": 2
}
